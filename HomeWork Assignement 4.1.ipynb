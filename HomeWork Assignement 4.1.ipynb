{
 "cells": [
  {
   "cell_type": "code",
   "execution_count": 8,
   "metadata": {},
   "outputs": [],
   "source": [
    "import numpy as np"
   ]
  },
  {
   "cell_type": "code",
   "execution_count": 9,
   "metadata": {},
   "outputs": [
    {
     "name": "stdout",
     "output_type": "stream",
     "text": [
      "[10 11 12 13 14 15 16 17 18 19 20 21 22 23 24 25 26 27 28 29 30 31 32 33\n",
      " 34 35 36 37 38 39 40 41 42 43 44 45 46 47 48 49]\n",
      "[49 48 47 46 45 44 43 42 41 40 39 38 37 36 35 34 33 32 31 30 29 28 27 26\n",
      " 25 24 23 22 21 20 19 18 17 16 15 14 13 12 11 10]\n"
     ]
    }
   ],
   "source": [
    "#4.1.1 Create a vector with values ranging from 10 to 49. Reverse a vector (first element becomes last)\n",
    "\n",
    "vector = np.arange(10,50)\n",
    "print(vector)\n",
    "\n",
    "reverse = np.flip(vector)\n",
    "print(reverse)\n"
   ]
  },
  {
   "cell_type": "code",
   "execution_count": 11,
   "metadata": {},
   "outputs": [
    {
     "name": "stdout",
     "output_type": "stream",
     "text": [
      "[[0.11681752 0.9092574  0.34302674 0.28104084 0.70814171]\n",
      " [0.85699303 0.05737507 0.0206789  0.57168415 0.50151393]\n",
      " [0.00483651 0.54930172 0.49756992 0.17025624 0.72567843]\n",
      " [0.3639825  0.98322341 0.36146507 0.28099083 0.07191247]\n",
      " [0.36637354 0.96673964 0.07327454 0.24158707 0.8239998 ]]\n",
      "minimum: 0.004836509364287589\n",
      "maximum: 0.9832234109368284\n"
     ]
    }
   ],
   "source": [
    "#4.1.2 Create a 5x5 array with random values. and find the minimum and maximum values\n",
    "\n",
    "matrix = np.random.random((5,5))\n",
    "print(matrix)\n",
    "minimum = matrix.min()\n",
    "maximum = matrix.max()\n",
    "\n",
    "print(\"minimum:\", minimum)\n",
    "print(\"maximum:\", maximum)"
   ]
  },
  {
   "cell_type": "code",
   "execution_count": 12,
   "metadata": {},
   "outputs": [
    {
     "name": "stdout",
     "output_type": "stream",
     "text": [
      "Normalized Matrix: [[0.32743873 0.69626895 0.95382662 0.15725585 0.56302473]\n",
      " [0.08375095 0.46679591 0.59670061 0.12738023 0.00422808]\n",
      " [0.06091571 0.16074309 0.94016857 0.97381365 1.        ]\n",
      " [0.58986318 0.04279391 0.50179024 0.         0.22253925]\n",
      " [0.69837356 0.22996347 0.49021203 0.48663969 0.86412757]]\n"
     ]
    }
   ],
   "source": [
    "# 4.1.3 Normalize a 5x5 random matrix\n",
    "\n",
    "\n",
    "b_matrix = np.random.random((5,5))\n",
    "b_minimum = b_matrix.min()\n",
    "b_maximum = b_matrix.max()\n",
    "\n",
    "m_matrix = (b_matrix - b_minimum) / (b_maximum - b_minimum)\n",
    "print(\"Normalized Matrix:\", m_matrix)"
   ]
  },
  {
   "cell_type": "code",
   "execution_count": 13,
   "metadata": {},
   "outputs": [
    {
     "name": "stdout",
     "output_type": "stream",
     "text": [
      "Multiply Result: [[1.52409477 0.57955828]\n",
      " [1.60064124 0.51562062]\n",
      " [1.0709336  0.30391787]\n",
      " [1.49871907 0.80375252]\n",
      " [1.39389851 0.73803683]]\n"
     ]
    }
   ],
   "source": [
    "#4.1.5 Multiply a 5x3 matrix by a 3x2 matrix (real matrix product)\n",
    "\n",
    "matrixa = np.random.random((5,3))\n",
    "matrixb = np.random.random((3,2))\n",
    "\n",
    "multiply = np.dot(matrixa, matrixb)\n",
    "print(\"Multiply Result:\", multiply)"
   ]
  },
  {
   "cell_type": "code",
   "execution_count": 14,
   "metadata": {},
   "outputs": [
    {
     "name": "stdout",
     "output_type": "stream",
     "text": [
      "today date: 2023-02-09\n",
      "yesterday date: 2023-02-08\n",
      "tomorrow date: 2023-02-10\n"
     ]
    }
   ],
   "source": [
    "#4.1.6 How to get the dates of yesterday, today and tomorrow?\n",
    "\n",
    "today = np.datetime64('today', 'D')\n",
    "yesterday = np.datetime64('today', 'D') - np.timedelta64(1, 'D')\n",
    "tomorrow = np.datetime64('today', 'D') + np.timedelta64(1, 'D')\n",
    "\n",
    "print(\"today date:\", today)\n",
    "print(\"yesterday date:\", yesterday)\n",
    "print(\"tomorrow date:\", tomorrow)"
   ]
  },
  {
   "cell_type": "code",
   "execution_count": 15,
   "metadata": {},
   "outputs": [
    {
     "name": "stdout",
     "output_type": "stream",
     "text": [
      "array:\n",
      " [8.24268282 8.25727567 7.84686029 5.55134711 6.04621465 8.38593042\n",
      " 3.05613284 9.75297443 6.0918205  7.74103602]\n",
      "[8. 8. 7. 5. 6. 8. 3. 9. 6. 7.]\n",
      "[8. 8. 7. 5. 6. 8. 3. 9. 6. 7.]\n",
      "[8. 8. 7. 5. 6. 8. 3. 9. 6. 7.]\n",
      "[8 8 7 5 6 8 3 9 6 7]\n",
      "[8. 8. 7. 5. 6. 8. 3. 9. 6. 7.]\n"
     ]
    }
   ],
   "source": [
    "#4.1.6 Extract the integer part of a random array using 5 different methods array = np.random.uniform(0, 10, 10)\n",
    "\n",
    "print(\"array:\\n\", array)\n",
    "print(np.floor(array))\n",
    "print(array-array%1)\n",
    "print(np.ceil(array)-1)\n",
    "print(array.astype(int))\n",
    "print(np.trunc(array))"
   ]
  },
  {
   "cell_type": "code",
   "execution_count": 16,
   "metadata": {},
   "outputs": [
    {
     "name": "stdout",
     "output_type": "stream",
     "text": [
      "[((0., 0.), (0., 0., 0.)) ((0., 0.), (0., 0., 0.))\n",
      " ((0., 0.), (0., 0., 0.)) ((0., 0.), (0., 0., 0.))\n",
      " ((0., 0.), (0., 0., 0.)) ((0., 0.), (0., 0., 0.))\n",
      " ((0., 0.), (0., 0., 0.)) ((0., 0.), (0., 0., 0.))\n",
      " ((0., 0.), (0., 0., 0.)) ((0., 0.), (0., 0., 0.))]\n"
     ]
    },
    {
     "name": "stderr",
     "output_type": "stream",
     "text": [
      "C:\\Users\\HP\\AppData\\Local\\Temp\\ipykernel_11984\\4025786590.py:3: FutureWarning: Passing (type, 1) or '1type' as a synonym of type is deprecated; in a future version of numpy, it will be understood as (type, (1,)) / '(1,)type'.\n",
      "  structure = np.zeros(10, [('position', [('x', float, 1), ('y', float, 1)]), ('color', [('r', float, 1), ('g', float, 1), ('b', float, 1)] )])\n"
     ]
    }
   ],
   "source": [
    "#4.1.7 Create a structured array representing a position (x,y) and a color (r,g,b)\n",
    "\n",
    "structure = np.zeros(10, [('position', [('x', float, 1), ('y', float, 1)]), ('color', [('r', float, 1), ('g', float, 1), ('b', float, 1)] )])\n",
    "\n",
    "print(structure)"
   ]
  }
 ],
 "metadata": {
  "kernelspec": {
   "display_name": "Python 3",
   "language": "python",
   "name": "python3"
  },
  "language_info": {
   "codemirror_mode": {
    "name": "ipython",
    "version": 3
   },
   "file_extension": ".py",
   "mimetype": "text/x-python",
   "name": "python",
   "nbconvert_exporter": "python",
   "pygments_lexer": "ipython3",
   "version": "3.11.2"
  },
  "orig_nbformat": 4,
  "vscode": {
   "interpreter": {
    "hash": "1f6a27bcfbe46a917dbd192f4a82657396dda26148bae633192e8d28c70725f1"
   }
  }
 },
 "nbformat": 4,
 "nbformat_minor": 2
}
