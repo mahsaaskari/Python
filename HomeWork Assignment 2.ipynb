{
 "cells": [
  {
   "cell_type": "code",
   "execution_count": 1,
   "metadata": {},
   "outputs": [
    {
     "name": "stdout",
     "output_type": "stream",
     "text": [
      "hi\n",
      "['hi']\n",
      "{'hi': 1}\n"
     ]
    }
   ],
   "source": [
    "#2.1 Write a function which will return how many times a word (symbols separated with space, coma and dot) meet in the string\n",
    "\n",
    "def count_word(context):\n",
    "\n",
    "    context = context.lower()\n",
    "    context = context.replace(' ', ',')\n",
    "    context = context.replace('.', ',')\n",
    "    print(context)\n",
    "    context = context.split(',')\n",
    "\n",
    "    print(context)\n",
    "\n",
    "    number = dict()\n",
    "\n",
    "    for word in context:\n",
    "        if word in number:\n",
    "            number[word] = number[word] + 1\n",
    "        else:\n",
    "            number[word] = 1\n",
    "\n",
    "    return print(number)\n",
    "\n",
    "count_word(str(input(\"write a context\")))"
   ]
  },
  {
   "cell_type": "code",
   "execution_count": 2,
   "metadata": {},
   "outputs": [],
   "source": [
    "#2.2 Write a Python function to get a list, sorted in increasing order by the last element in each tuple from a given list of non-empty tuples\n",
    "\n",
    "def sort_list(tuples):\n",
    "\n",
    "    for i in range(number):\n",
    "        for j in range(number-i-1):\n",
    "            if tuples[j][-1] > tuples[j+1][-1]:\n",
    "                temp = tuples[j]\n",
    "                tuples[j] = tuples[j+1]\n",
    "                tuples[j+1] = temp\n",
    "\n",
    "    return tuples\n",
    "\n",
    "list = []\n",
    "number = int(input('How many tuples are in your list?'))\n",
    "\n",
    "for i in range(number):\n",
    "    a = input(\"Enter a Tuple\")\n",
    "    list.append(a)\n",
    "\n",
    "print(list)\n",
    "print(\"Sorted by last digit:\", sort_list(list))"
   ]
  },
  {
   "cell_type": "code",
   "execution_count": null,
   "metadata": {},
   "outputs": [
    {
     "name": "stdout",
     "output_type": "stream",
     "text": [
      "[{'make': 'Nokia', 'model': 216, 'color': 'Black'}, {'make': 'Samsung', 'model': 7, 'color': 'Blue'}, {'make': 'Mi Max', 'model': '2', 'color': 'Gold'}]\n"
     ]
    }
   ],
   "source": [
    "#2.3 Write a Python program to sort a list of dictionaries using Lambda\n",
    "dictionary = [{'make': 'Nokia', 'model': 216, 'color': 'Black'}, \n",
    "{'make': 'Mi Max', 'model': '2', 'color': 'Gold'}, {'make': 'Samsung', 'model': 7, 'color': 'Blue'}]\n",
    "\n",
    "sort = sorted(dictionary, key=lambda x:x['color'])\n",
    "print(sort)\n",
    "\n"
   ]
  },
  {
   "cell_type": "code",
   "execution_count": 2,
   "metadata": {},
   "outputs": [
    {
     "name": "stdout",
     "output_type": "stream",
     "text": [
      "['Hello', 'How', 'Are', 'You']\n",
      "[['H', 'e', 'l', 'l', 'o'], ['H', 'o', 'w'], ['A', 'r', 'e'], ['Y', 'o', 'u']]\n"
     ]
    }
   ],
   "source": [
    "#2.4 Write a Python program to convert a given list of strings into list of lists using map function\n",
    "\n",
    "def convert(str):\n",
    "\n",
    "    lists = map(list,str)\n",
    "    return list(lists)\n",
    "\n",
    "strings = [\"Hello\", \"How\", \"Are\", \"You\"]\n",
    "print(strings)\n",
    "\n",
    "print(convert(strings))"
   ]
  }
 ],
 "metadata": {
  "kernelspec": {
   "display_name": "Python 3",
   "language": "python",
   "name": "python3"
  },
  "language_info": {
   "codemirror_mode": {
    "name": "ipython",
    "version": 3
   },
   "file_extension": ".py",
   "mimetype": "text/x-python",
   "name": "python",
   "nbconvert_exporter": "python",
   "pygments_lexer": "ipython3",
   "version": "3.11.2"
  },
  "orig_nbformat": 4,
  "vscode": {
   "interpreter": {
    "hash": "1f6a27bcfbe46a917dbd192f4a82657396dda26148bae633192e8d28c70725f1"
   }
  }
 },
 "nbformat": 4,
 "nbformat_minor": 2
}
